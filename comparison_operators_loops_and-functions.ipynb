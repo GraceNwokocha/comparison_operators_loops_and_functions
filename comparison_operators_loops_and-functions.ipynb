{
 "cells": [
  {
   "cell_type": "code",
   "execution_count": null,
   "metadata": {},
   "outputs": [],
   "source": []
  },
  {
   "cell_type": "markdown",
   "metadata": {},
   "source": [
    "IF, ELIF, ELSE STATEMENT\n",
    "They are used to compare two values (equal to, not equals to, greater than etc)"
   ]
  },
  {
   "cell_type": "code",
   "execution_count": 2,
   "metadata": {},
   "outputs": [
    {
     "data": {
      "text/plain": [
       "True"
      ]
     },
     "execution_count": 2,
     "metadata": {},
     "output_type": "execute_result"
    }
   ],
   "source": [
    "1 == 1"
   ]
  },
  {
   "cell_type": "code",
   "execution_count": 3,
   "metadata": {},
   "outputs": [
    {
     "name": "stdout",
     "output_type": "stream",
     "text": [
      "Correct Password\n"
     ]
    }
   ],
   "source": [
    "password = 1234\n",
    "if password == 1234:\n",
    "    print(\"Correct Password\")\n",
    "else:\n",
    "    print(\"Wrong Password\")"
   ]
  },
  {
   "cell_type": "code",
   "execution_count": 4,
   "metadata": {},
   "outputs": [
    {
     "name": "stdout",
     "output_type": "stream",
     "text": [
      "Correct Password\n"
     ]
    }
   ],
   "source": [
    "user_pass = int(input(\"Please input your password: \"))\n",
    "\n",
    "if password == 1234:\n",
    "    print(\"Correct Password\")\n",
    "else:\n",
    "    print(\"Wrong Password\")"
   ]
  },
  {
   "cell_type": "code",
   "execution_count": 5,
   "metadata": {},
   "outputs": [
    {
     "name": "stdout",
     "output_type": "stream",
     "text": [
      "Please leave this application now!!\n"
     ]
    }
   ],
   "source": [
    "name = input(\"What is your name: \")\n",
    "\n",
    "if name == \"Efemena\":\n",
    "    print(\"Hello {name}, Welcome to Jummychi\")\n",
    "else:\n",
    "    print(\"Please leave this application now!!\")"
   ]
  },
  {
   "cell_type": "code",
   "execution_count": 7,
   "metadata": {},
   "outputs": [
    {
     "name": "stdout",
     "output_type": "stream",
     "text": [
      "please provide your account details\n"
     ]
    }
   ],
   "source": [
    "name = input(\"What is your name: \")\n",
    "\n",
    "if name == \"Efemena\":\n",
    "    print(f\"Hello {name}, Welcome to Jummychi\")\n",
    "elif name == \"Solape\":\n",
    "    print(\"please provide your account details\")\n",
    "elif name == \"Nene\":\n",
    "    print(\"call customer service\")\n",
    "else:\n",
    "    print(\"Good Bye\")"
   ]
  },
  {
   "cell_type": "code",
   "execution_count": 9,
   "metadata": {},
   "outputs": [
    {
     "data": {
      "text/plain": [
       "70"
      ]
     },
     "execution_count": 9,
     "metadata": {},
     "output_type": "execute_result"
    }
   ],
   "source": [
    "f_test = int(input(\"What is your first test: \"))\n",
    "s_test = int(input(\"What is your second test: \"))\n",
    "exam = int(input(\"What is your exam score: \"))\n",
    "\n",
    "total_score = f_test + s_test + exam\n",
    "\n",
    "total_score"
   ]
  },
  {
   "cell_type": "code",
   "execution_count": 11,
   "metadata": {},
   "outputs": [
    {
     "name": "stdout",
     "output_type": "stream",
     "text": [
      "D\n"
     ]
    }
   ],
   "source": [
    "f_test = int(input(\"What is your first test: \"))\n",
    "s_test = int(input(\"What is your second test: \"))\n",
    "exam = int(input(\"What is your exam score: \"))\n",
    "\n",
    "total_score = f_test + s_test + exam\n",
    "\n",
    "if total_score >= 70:\n",
    "    print(\"A\")\n",
    "elif total_score >= 60:\n",
    "    print(\"B\")\n",
    "elif total_score >= 50:\n",
    "    print(\"C\")\n",
    "elif total_score >= 40:\n",
    "    print(\"D\")\n",
    "else: \n",
    "    print(\"F\")"
   ]
  },
  {
   "cell_type": "markdown",
   "metadata": {},
   "source": [
    "AND & OR "
   ]
  },
  {
   "cell_type": "code",
   "execution_count": 12,
   "metadata": {},
   "outputs": [
    {
     "name": "stdout",
     "output_type": "stream",
     "text": [
      "Welcome, you can vote here\n"
     ]
    }
   ],
   "source": [
    "# AND (THE TWO CONDITION MUST BE MET)\n",
    "# in order to vote you have to be 18 years and own a PVC\n",
    "\n",
    "pvc = input(\"Do you have PVC: \")\n",
    "age = int(input(\"How old are you: \"))\n",
    "\n",
    "if age >= 18 and pvc == \"yes\":\n",
    "    print(\"Welcome, you can vote here\")\n",
    "else: \n",
    "    print(\"You are not eligible to vote\")"
   ]
  },
  {
   "cell_type": "code",
   "execution_count": 14,
   "metadata": {},
   "outputs": [
    {
     "name": "stdout",
     "output_type": "stream",
     "text": [
      "BUY\n"
     ]
    }
   ],
   "source": [
    "# Ayo - Bread or Cake\n",
    "\n",
    "bread = input(\"Is bread available: \")\n",
    "cake = input(\"Is cake available\")\n",
    "\n",
    "if bread == \"yes\" or cake == \"yes\":\n",
    "    print(\"BUY\")\n",
    "else: \n",
    "    print(\"Give me my money\")"
   ]
  },
  {
   "cell_type": "markdown",
   "metadata": {},
   "source": [
    "IF/ELIF/ELSE - And?Or Statement"
   ]
  },
  {
   "cell_type": "code",
   "execution_count": 10,
   "metadata": {},
   "outputs": [],
   "source": [
    "# Input weather and temperature\n",
    "weather = input(\"What is the weather like (sunny, rainy, snowy): \")\n",
    "temperature = int(input(\"What is the temperature (in Celsius): \"))\n",
    "\n",
    "# Processing weather/temperature to recommend activities\n",
    "if weather.lower() == \"sunny\" and temperature >= 20:\n",
    "    activity = \"It is a perfect day for a picknic/football match\"\n",
    "elif weather.lower() == \"sunny\" and temperature < 20:\n",
    "    activity = \"It is a nice day for a work or a jog\"\n",
    "elif weather.lower() == \"rainy\" and temperature >=15:\n",
    "    activity =\"It is a good day to stay indoor and read a book\"\n",
    "elif weather.lower() == \"rainy\" or weather.lower() == \"snowy\":\n",
    "    activity = \"Stay indoors and have a hot drink\"\n",
    "else:  \n",
    "    activity = \"Not sure what i would recommend for such weather type\"\n"
   ]
  },
  {
   "cell_type": "code",
   "execution_count": 12,
   "metadata": {},
   "outputs": [
    {
     "name": "stdout",
     "output_type": "stream",
     "text": [
      "With your income or age, speaking to a professional financial advisor is recommended.\n"
     ]
    }
   ],
   "source": [
    "# Inputs: Age and annual income\n",
    "age = int(input(\"How old are you? \"))\n",
    "income = float(input(\"What is your annual income? \"))\n",
    "\n",
    "# Financial advice based on age and income\n",
    "if age < 30 and income < 50000:\n",
    "    financial_advice = \"It's a great time to start saving money.\"\n",
    "elif age < 30 and income >= 50000:\n",
    "    financial_advice =\"you might want to consider investing.\"\n",
    "elif age >= 30 and income < 50000:\n",
    "    financial_advice = \"Creating a budget plan could help manage your finances.\"\n",
    "elif income > 100000 or age > 65:\n",
    "    financial_advice = \"With your income or age, speaking to a professional financial advisor is recommended.\"\n",
    "else:\n",
    "    financial_advice = \"Seeking personalized financial advice may be the best course of action.\"\n",
    "print(financial_advice)"
   ]
  },
  {
   "cell_type": "code",
   "execution_count": null,
   "metadata": {},
   "outputs": [],
   "source": []
  }
 ],
 "metadata": {
  "kernelspec": {
   "display_name": "Python 3",
   "language": "python",
   "name": "python3"
  },
  "language_info": {
   "codemirror_mode": {
    "name": "ipython",
    "version": 3
   },
   "file_extension": ".py",
   "mimetype": "text/x-python",
   "name": "python",
   "nbconvert_exporter": "python",
   "pygments_lexer": "ipython3",
   "version": "3.11.9"
  }
 },
 "nbformat": 4,
 "nbformat_minor": 2
}
