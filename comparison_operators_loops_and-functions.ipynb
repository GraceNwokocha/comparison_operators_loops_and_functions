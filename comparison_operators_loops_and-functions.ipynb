{
 "cells": [
  {
   "cell_type": "code",
   "execution_count": null,
   "metadata": {},
   "outputs": [],
   "source": []
  },
  {
   "cell_type": "markdown",
   "metadata": {},
   "source": [
    "IF, ELIF, ELSE STATEMENT\n",
    "They are used to compare two values (equal to, not equals to, greater than etc)"
   ]
  },
  {
   "cell_type": "code",
   "execution_count": 2,
   "metadata": {},
   "outputs": [
    {
     "data": {
      "text/plain": [
       "True"
      ]
     },
     "execution_count": 2,
     "metadata": {},
     "output_type": "execute_result"
    }
   ],
   "source": [
    "1 == 1"
   ]
  },
  {
   "cell_type": "code",
   "execution_count": 3,
   "metadata": {},
   "outputs": [
    {
     "name": "stdout",
     "output_type": "stream",
     "text": [
      "Correct Password\n"
     ]
    }
   ],
   "source": [
    "password = 1234\n",
    "if password == 1234:\n",
    "    print(\"Correct Password\")\n",
    "else:\n",
    "    print(\"Wrong Password\")"
   ]
  },
  {
   "cell_type": "code",
   "execution_count": 4,
   "metadata": {},
   "outputs": [
    {
     "name": "stdout",
     "output_type": "stream",
     "text": [
      "Correct Password\n"
     ]
    }
   ],
   "source": [
    "user_pass = int(input(\"Please input your password: \"))\n",
    "\n",
    "if password == 1234:\n",
    "    print(\"Correct Password\")\n",
    "else:\n",
    "    print(\"Wrong Password\")"
   ]
  },
  {
   "cell_type": "code",
   "execution_count": 5,
   "metadata": {},
   "outputs": [
    {
     "name": "stdout",
     "output_type": "stream",
     "text": [
      "Please leave this application now!!\n"
     ]
    }
   ],
   "source": [
    "name = input(\"What is your name: \")\n",
    "\n",
    "if name == \"Efemena\":\n",
    "    print(\"Hello {name}, Welcome to Jummychi\")\n",
    "else:\n",
    "    print(\"Please leave this application now!!\")"
   ]
  },
  {
   "cell_type": "code",
   "execution_count": 7,
   "metadata": {},
   "outputs": [
    {
     "name": "stdout",
     "output_type": "stream",
     "text": [
      "please provide your account details\n"
     ]
    }
   ],
   "source": [
    "name = input(\"What is your name: \")\n",
    "\n",
    "if name == \"Efemena\":\n",
    "    print(f\"Hello {name}, Welcome to Jummychi\")\n",
    "elif name == \"Solape\":\n",
    "    print(\"please provide your account details\")\n",
    "elif name == \"Nene\":\n",
    "    print(\"call customer service\")\n",
    "else:\n",
    "    print(\"Good Bye\")"
   ]
  },
  {
   "cell_type": "code",
   "execution_count": 9,
   "metadata": {},
   "outputs": [
    {
     "data": {
      "text/plain": [
       "70"
      ]
     },
     "execution_count": 9,
     "metadata": {},
     "output_type": "execute_result"
    }
   ],
   "source": [
    "f_test = int(input(\"What is your first test: \"))\n",
    "s_test = int(input(\"What is your second test: \"))\n",
    "exam = int(input(\"What is your exam score: \"))\n",
    "\n",
    "total_score = f_test + s_test + exam\n",
    "\n",
    "total_score"
   ]
  },
  {
   "cell_type": "code",
   "execution_count": 11,
   "metadata": {},
   "outputs": [
    {
     "name": "stdout",
     "output_type": "stream",
     "text": [
      "D\n"
     ]
    }
   ],
   "source": [
    "f_test = int(input(\"What is your first test: \"))\n",
    "s_test = int(input(\"What is your second test: \"))\n",
    "exam = int(input(\"What is your exam score: \"))\n",
    "\n",
    "total_score = f_test + s_test + exam\n",
    "\n",
    "if total_score >= 70:\n",
    "    print(\"A\")\n",
    "elif total_score >= 60:\n",
    "    print(\"B\")\n",
    "elif total_score >= 50:\n",
    "    print(\"C\")\n",
    "elif total_score >= 40:\n",
    "    print(\"D\")\n",
    "else: \n",
    "    print(\"F\")"
   ]
  },
  {
   "cell_type": "markdown",
   "metadata": {},
   "source": [
    "AND & OR "
   ]
  },
  {
   "cell_type": "code",
   "execution_count": 12,
   "metadata": {},
   "outputs": [
    {
     "name": "stdout",
     "output_type": "stream",
     "text": [
      "Welcome, you can vote here\n"
     ]
    }
   ],
   "source": [
    "# AND (THE TWO CONDITION MUST BE MET)\n",
    "# in order to vote you have to be 18 years and own a PVC\n",
    "\n",
    "pvc = input(\"Do you have PVC: \")\n",
    "age = int(input(\"How old are you: \"))\n",
    "\n",
    "if age >= 18 and pvc == \"yes\":\n",
    "    print(\"Welcome, you can vote here\")\n",
    "else: \n",
    "    print(\"You are not eligible to vote\")"
   ]
  },
  {
   "cell_type": "code",
   "execution_count": 14,
   "metadata": {},
   "outputs": [
    {
     "name": "stdout",
     "output_type": "stream",
     "text": [
      "BUY\n"
     ]
    }
   ],
   "source": [
    "# Ayo - Bread or Cake\n",
    "\n",
    "bread = input(\"Is bread available: \")\n",
    "cake = input(\"Is cake available\")\n",
    "\n",
    "if bread == \"yes\" or cake == \"yes\":\n",
    "    print(\"BUY\")\n",
    "else: \n",
    "    print(\"Give me my money\")"
   ]
  },
  {
   "cell_type": "markdown",
   "metadata": {},
   "source": [
    "IF/ELIF/ELSE - And?Or Statement"
   ]
  },
  {
   "cell_type": "code",
   "execution_count": 10,
   "metadata": {},
   "outputs": [],
   "source": [
    "# Input weather and temperature\n",
    "weather = input(\"What is the weather like (sunny, rainy, snowy): \")\n",
    "temperature = int(input(\"What is the temperature (in Celsius): \"))\n",
    "\n",
    "# Processing weather/temperature to recommend activities\n",
    "if weather.lower() == \"sunny\" and temperature >= 20:\n",
    "    activity = \"It is a perfect day for a picknic/football match\"\n",
    "elif weather.lower() == \"sunny\" and temperature < 20:\n",
    "    activity = \"It is a nice day for a work or a jog\"\n",
    "elif weather.lower() == \"rainy\" and temperature >=15:\n",
    "    activity =\"It is a good day to stay indoor and read a book\"\n",
    "elif weather.lower() == \"rainy\" or weather.lower() == \"snowy\":\n",
    "    activity = \"Stay indoors and have a hot drink\"\n",
    "else:  \n",
    "    activity = \"Not sure what i would recommend for such weather type\"\n"
   ]
  },
  {
   "cell_type": "code",
   "execution_count": 12,
   "metadata": {},
   "outputs": [
    {
     "name": "stdout",
     "output_type": "stream",
     "text": [
      "With your income or age, speaking to a professional financial advisor is recommended.\n"
     ]
    }
   ],
   "source": [
    "# Inputs: Age and annual income\n",
    "age = int(input(\"How old are you? \"))\n",
    "income = float(input(\"What is your annual income? \"))\n",
    "\n",
    "# Financial advice based on age and income\n",
    "if age < 30 and income < 50000:\n",
    "    financial_advice = \"It's a great time to start saving money.\"\n",
    "elif age < 30 and income >= 50000:\n",
    "    financial_advice =\"you might want to consider investing.\"\n",
    "elif age >= 30 and income < 50000:\n",
    "    financial_advice = \"Creating a budget plan could help manage your finances.\"\n",
    "elif income > 100000 or age > 65:\n",
    "    financial_advice = \"With your income or age, speaking to a professional financial advisor is recommended.\"\n",
    "else:\n",
    "    financial_advice = \"Seeking personalized financial advice may be the best course of action.\"\n",
    "print(financial_advice)"
   ]
  },
  {
   "cell_type": "markdown",
   "metadata": {},
   "source": [
    "For Loop"
   ]
  },
  {
   "cell_type": "code",
   "execution_count": 14,
   "metadata": {},
   "outputs": [
    {
     "name": "stdout",
     "output_type": "stream",
     "text": [
      "Jummychi\n",
      "Jummychi\n",
      "Jummychi\n"
     ]
    }
   ],
   "source": [
    "name = \"Jummychi\"\n",
    "\n",
    "for i in range(3):\n",
    "    print(name)"
   ]
  },
  {
   "cell_type": "code",
   "execution_count": 15,
   "metadata": {},
   "outputs": [
    {
     "data": {
      "text/plain": [
       "range(0, 3)"
      ]
     },
     "execution_count": 15,
     "metadata": {},
     "output_type": "execute_result"
    }
   ],
   "source": [
    "range(3)"
   ]
  },
  {
   "cell_type": "code",
   "execution_count": 19,
   "metadata": {},
   "outputs": [
    {
     "name": "stdout",
     "output_type": "stream",
     "text": [
      "1\n",
      "2\n",
      "3\n",
      "4\n",
      "5\n",
      "6\n",
      "7\n",
      "8\n",
      "9\n",
      "10\n"
     ]
    }
   ],
   "source": [
    "list1= [1,2,3,4,5,6,7,8,9,10]\n",
    "\n",
    "for num in list1:\n",
    "    print(num)"
   ]
  },
  {
   "cell_type": "code",
   "execution_count": 20,
   "metadata": {},
   "outputs": [
    {
     "name": "stdout",
     "output_type": "stream",
     "text": [
      "2\n",
      "4\n",
      "6\n",
      "8\n",
      "10\n"
     ]
    }
   ],
   "source": [
    "# Even Number = /2 = 0\n",
    "list1 = [1,2,3,4,5,6,7,8,9,10]\n",
    "\n",
    "for num in list1:\n",
    "    if num % 2 == 0:\n",
    "        print(num)\n",
    "    "
   ]
  },
  {
   "cell_type": "code",
   "execution_count": 22,
   "metadata": {},
   "outputs": [
    {
     "name": "stdout",
     "output_type": "stream",
     "text": [
      "This is an odd number\n",
      "2\n",
      "This is an odd number\n",
      "4\n",
      "This is an odd number\n",
      "6\n",
      "This is an odd number\n",
      "8\n",
      "This is an odd number\n",
      "10\n"
     ]
    }
   ],
   "source": [
    "    \n",
    "ist1 = [1,2,3,4,5,6,7,8,9,10]\n",
    "\n",
    "for num in list1:\n",
    "    if num % 2 == 0:\n",
    "        print(num)\n",
    "    else:\n",
    "        print (\"This is an odd number\")\n"
   ]
  },
  {
   "cell_type": "code",
   "execution_count": 23,
   "metadata": {},
   "outputs": [
    {
     "name": "stdout",
     "output_type": "stream",
     "text": [
      "1 is an odd number\n",
      "2\n",
      "3 is an odd number\n",
      "4\n",
      "5 is an odd number\n",
      "6\n",
      "7 is an odd number\n",
      "8\n",
      "9 is an odd number\n",
      "10\n"
     ]
    }
   ],
   "source": [
    "ist1 = [1,2,3,4,5,6,7,8,9,10]\n",
    "\n",
    "for num in list1:\n",
    "    if num % 2 == 0:\n",
    "        print(num)\n",
    "    else:\n",
    "        print (f\"{num} is an odd number\")\n"
   ]
  },
  {
   "cell_type": "markdown",
   "metadata": {},
   "source": [
    "WHILE LOOP - BASED ON A CONDITION"
   ]
  },
  {
   "cell_type": "code",
   "execution_count": 25,
   "metadata": {},
   "outputs": [],
   "source": [
    "password = (input(\"What is your password: \"))\n",
    "\n",
    "while password == \"10Alytics\":\n",
    "    print(\"Welcome to 10Alytics\")"
   ]
  },
  {
   "cell_type": "code",
   "execution_count": 27,
   "metadata": {},
   "outputs": [
    {
     "name": "stdout",
     "output_type": "stream",
     "text": [
      "0\n",
      "1\n",
      "2\n",
      "3\n",
      "4\n",
      "5\n",
      "6\n",
      "7\n",
      "8\n",
      "9\n",
      "10\n",
      "11\n",
      "12\n",
      "13\n",
      "14\n",
      "15\n"
     ]
    }
   ],
   "source": [
    "x = 0\n",
    "\n",
    "while x <= 15:\n",
    "    print(x)\n",
    "    x = x+1"
   ]
  },
  {
   "cell_type": "code",
   "execution_count": 28,
   "metadata": {},
   "outputs": [
    {
     "name": "stdout",
     "output_type": "stream",
     "text": [
      "-----------------------\n",
      "your details have been collected successfully\n",
      "-----------------------\n",
      "your details have been collected successfully\n",
      "-----------------------\n",
      "your details have been collected successfully\n"
     ]
    }
   ],
   "source": [
    "ans = \"yes\"\n",
    "\n",
    "while ans == \"yes\":\n",
    "    name = input(\"What is your name: \")\n",
    "    name = input(\"How old are you: \")\n",
    "    state = input(\"What State are you from: \")\n",
    "    print(\"-----------------------\")\n",
    "    print(\"your details have been collected successfully\")\n",
    "\n",
    "    ans = input(\"Do you want to drop your details: \")"
   ]
  },
  {
   "cell_type": "markdown",
   "metadata": {},
   "source": [
    "BREAK, CONTINUE AND PASS\n",
    "Break - Breaks out of the currrent closest enclosing loop\n",
    "Continue - Goes to the top of the closest enclosing loop\n",
    "Pass - Do nothing at all"
   ]
  },
  {
   "cell_type": "code",
   "execution_count": 29,
   "metadata": {},
   "outputs": [],
   "source": [
    "# PASS\n",
    "\n",
    "name = \"Grace\"\n",
    "\n",
    "for i in name:\n",
    "    pass"
   ]
  },
  {
   "cell_type": "code",
   "execution_count": 30,
   "metadata": {},
   "outputs": [
    {
     "name": "stdout",
     "output_type": "stream",
     "text": [
      "G\n",
      "r\n",
      "a\n",
      "c\n",
      "e\n"
     ]
    }
   ],
   "source": [
    "# BREAK AND CONTINUE\n",
    "\n",
    "name = \"Grace\"\n",
    "\n",
    "for i in name:\n",
    "    print(i)\n"
   ]
  },
  {
   "cell_type": "code",
   "execution_count": 31,
   "metadata": {},
   "outputs": [
    {
     "name": "stdout",
     "output_type": "stream",
     "text": [
      "G\n",
      "r\n",
      "a\n",
      "c\n",
      "e\n"
     ]
    }
   ],
   "source": [
    "# BREAK\n",
    "name = \"Grace\"\n",
    "\n",
    "for i in name:\n",
    "    if i == \"m\":\n",
    "        break\n",
    "    print(i)\n"
   ]
  },
  {
   "cell_type": "code",
   "execution_count": 34,
   "metadata": {},
   "outputs": [
    {
     "name": "stdout",
     "output_type": "stream",
     "text": [
      "G\n",
      "r\n",
      "a\n",
      "e\n"
     ]
    }
   ],
   "source": [
    "# CONTINUE\n",
    "\n",
    "name = \"Grace\"\n",
    "\n",
    "for i in name:\n",
    "    if i == \"c\":\n",
    "        continue\n",
    "    print(i)\n"
   ]
  },
  {
   "cell_type": "code",
   "execution_count": 35,
   "metadata": {},
   "outputs": [
    {
     "name": "stdout",
     "output_type": "stream",
     "text": [
      "login successfully\n"
     ]
    }
   ],
   "source": [
    "# 3 TRIALS FOR PASSWORD VERIFICATION\n",
    "\n",
    "for i in range (3):\n",
    "    password = input(\"What is your password: \")\n",
    "    if password == \"1234\":\n",
    "        print(\"login successfully\")\n",
    "        break\n",
    "    print(\"Wrong Password\")"
   ]
  },
  {
   "cell_type": "markdown",
   "metadata": {},
   "source": [
    "### For Loop"
   ]
  },
  {
   "cell_type": "code",
   "execution_count": 50,
   "metadata": {},
   "outputs": [],
   "source": [
    "# password verification \n",
    "correct_password = \"Grace123\"\n",
    "max_attempt = 5\n",
    "\n",
    "for attempt in range(max_attempt):\n",
    "    password_try = input(f\"{attempt}/{max_attempt}: \")\n",
    "\n",
    "    "
   ]
  },
  {
   "cell_type": "code",
   "execution_count": 51,
   "metadata": {},
   "outputs": [],
   "source": [
    "correct_password = \"Grace123\"\n",
    "max_attempt = 5\n",
    "\n",
    "for attempt in range(max_attempt):\n",
    "    password_try = input(f\"This is attempt {attempt + 1 } of {max_attempt}: attemps \")\n"
   ]
  },
  {
   "cell_type": "markdown",
   "metadata": {},
   "source": [
    "WHILE LOOP"
   ]
  },
  {
   "cell_type": "code",
   "execution_count": 70,
   "metadata": {},
   "outputs": [
    {
     "name": "stdout",
     "output_type": "stream",
     "text": [
      "We have chosen a random number between 1 and 10. Try to guess it.\n"
     ]
    }
   ],
   "source": [
    "# Guess Game\n",
    "import random\n",
    "\n",
    "lotto_numbers = random.randint(1,100)\n",
    "print(\"We have chosen a random number between 1 and 10. Try to guess it.\")\n",
    "\n"
   ]
  },
  {
   "cell_type": "code",
   "execution_count": 67,
   "metadata": {},
   "outputs": [],
   "source": [
    "import random"
   ]
  },
  {
   "cell_type": "markdown",
   "metadata": {},
   "source": [
    "FUNCTIONS - Is a group of related statements that performs a specific task"
   ]
  },
  {
   "cell_type": "code",
   "execution_count": 3,
   "metadata": {},
   "outputs": [
    {
     "data": {
      "text/plain": [
       "21"
      ]
     },
     "execution_count": 3,
     "metadata": {},
     "output_type": "execute_result"
    }
   ],
   "source": [
    "list1 = [1,2,3,4,5,6]\n",
    "sum(list1)"
   ]
  },
  {
   "cell_type": "code",
   "execution_count": 8,
   "metadata": {},
   "outputs": [],
   "source": [
    "# Create the greeting function\n",
    "\n",
    "def greet():\n",
    "    name = input(\"What is your name: \")\n",
    "    print(f\"Hello {name}\")"
   ]
  },
  {
   "cell_type": "code",
   "execution_count": 9,
   "metadata": {},
   "outputs": [
    {
     "name": "stdout",
     "output_type": "stream",
     "text": [
      "Hello Grace\n"
     ]
    }
   ],
   "source": [
    "greet()"
   ]
  },
  {
   "cell_type": "code",
   "execution_count": 10,
   "metadata": {},
   "outputs": [],
   "source": [
    "# Test password\n",
    "\n",
    "def password():\n",
    "    for i in range(3):\n",
    "        password = input(\"What is your password: \")\n",
    "        if password == \"1234\":\n",
    "            print(\"Login Successfully\")\n",
    "            break\n",
    "        print(\"Wrong Password\")"
   ]
  },
  {
   "cell_type": "code",
   "execution_count": 12,
   "metadata": {},
   "outputs": [
    {
     "name": "stdout",
     "output_type": "stream",
     "text": [
      "Wrong Password\n",
      "Login Successfully\n"
     ]
    }
   ],
   "source": [
    "password()"
   ]
  },
  {
   "cell_type": "code",
   "execution_count": 13,
   "metadata": {},
   "outputs": [],
   "source": [
    "# Convert  to small  letter\n",
    "\n",
    "def small_letter():\n",
    "    name = input(\"What is your name: \")\n",
    "    user = name.lower()\n",
    "    print(user)"
   ]
  },
  {
   "cell_type": "code",
   "execution_count": 14,
   "metadata": {},
   "outputs": [
    {
     "name": "stdout",
     "output_type": "stream",
     "text": [
      "grace\n"
     ]
    }
   ],
   "source": [
    "small_letter()"
   ]
  },
  {
   "cell_type": "code",
   "execution_count": 15,
   "metadata": {},
   "outputs": [],
   "source": [
    "def quest():\n",
    "    ans = input(\"Do you want to drop your details: \")\n",
    "\n",
    "    while ans == \"yes\":\n",
    "        name = input(\"What is your name: \")\n",
    "        age = input(\"How old are you: \")\n",
    "        state = input(\"What state are you from:  \")\n",
    "        print(\"-----------------------\")\n",
    "        print(f\"Hello {name}, Welcome to 10Alytics\")\n",
    "\n",
    "        ans = input(\"Do you want to drop your details: \")\n"
   ]
  },
  {
   "cell_type": "code",
   "execution_count": 16,
   "metadata": {},
   "outputs": [
    {
     "name": "stdout",
     "output_type": "stream",
     "text": [
      "-----------------------\n",
      "Hello Grace, Welcome to 10Alytics\n"
     ]
    }
   ],
   "source": [
    "quest()"
   ]
  },
  {
   "cell_type": "markdown",
   "metadata": {},
   "source": [
    "FUNCTION"
   ]
  },
  {
   "cell_type": "code",
   "execution_count": 18,
   "metadata": {},
   "outputs": [],
   "source": [
    "def guess_game():\n",
    "        # Guess Game\n",
    "    import random\n",
    "\n",
    "    lotto_number = random.randint(1,100)\n",
    "    print(\"We have chosen a random number between 1 and 100. Try to guess it.\")\n",
    "\n",
    "    while True:\n",
    "        guess = input(\"Enter your guess(number) or type 'yes' to quit\")\n",
    "\n",
    "        # Check if the player want to exit/quit\n",
    "        if guess.lower() == \"yes\":\n",
    "            print(f\"The number to guess was {lotto_number}. Bettter luck next time\")\n",
    "            break\n",
    "        \n",
    "        # Check if the input is a number\n",
    "        if guess.isdigit():\n",
    "            guess = int(guess)\n",
    "        else:\n",
    "            print(\"Please enter a valid number. try again\")\n",
    "            continue\n",
    "\n",
    "        # Confirm guess number\n",
    "        if guess < lotto_number:\n",
    "            print(\"Your guess is lower than the guess number\")\n",
    "        elif guess > lotto_number:\n",
    "            print(\"Your guess is higher than the guess number\")\n",
    "        else:\n",
    "            print(\"Congratulations - You have guessed the right number and you won 5 million pounds\")\n",
    "            break\n"
   ]
  },
  {
   "cell_type": "code",
   "execution_count": 19,
   "metadata": {},
   "outputs": [
    {
     "name": "stdout",
     "output_type": "stream",
     "text": [
      "We have chosen a random number between 1 and 100. Try to guess it.\n",
      "Your guess is lower than the guess number\n",
      "Your guess is higher than the guess number\n",
      "Please enter a valid number. try again\n",
      "Your guess is higher than the guess number\n",
      "Your guess is higher than the guess number\n",
      "The number to guess was 40. Bettter luck next time\n"
     ]
    }
   ],
   "source": [
    "guess_game()"
   ]
  },
  {
   "cell_type": "code",
   "execution_count": 23,
   "metadata": {},
   "outputs": [],
   "source": [
    "# Loan verification Application\n",
    "\n",
    "def comprehensive_loan_approval():\n",
    "\n",
    "    # Criteria for Loan approval\n",
    "    min_credit_score = 700\n",
    "    min_income = 30000\n",
    "    max_DTI = 0.4 # Dept to Income ratio 40%\n",
    "    min_down_payment = 0.2 # 20%\n",
    "    employment_status = ['employed', 'self-employed']\n",
    "    min_length_of_employment = 2\n",
    "\n",
    "    # Get user input\n",
    "    credit_score = int(input(\"What is your credit score: \"))\n",
    "    income = float(input(\"What is your current income: \"))\n",
    "    loan_amount = float(input(\"Enter the loan amount you wish to borrow: \"))\n",
    "    down_payment = float(input(\"What is your down payment: \"))\n",
    "    employment = input(\"Enter your employment status (employed, self_employed, not employed): \")\n",
    "    length_of_employment = int(input(\"How long have you worked in your current job: \"))\n",
    "\n",
    "    # Check user input against minimum criteria\n",
    "    if credit_score < min_credit_score and income < min_income:\n",
    "        status = \"Loan denied: Credit Score or Minimm Income is too low\"\n",
    "    elif employment.lower() not in employment_status:\n",
    "        status = \"Loan denied: Employment status is not eligible\"\n",
    "    elif loan_amount > income * max_DTI:\n",
    "        status = \"Loan denied: Debt to income not supported\"\n",
    "    elif down_payment < loan_amount * min_down_payment:\n",
    "        status = \"Loan denied: Down payment is too low\"\n",
    "    else:\n",
    "        status = \"Loan Approved\"\n",
    "    \n",
    "    return status\n",
    "\n"
   ]
  },
  {
   "cell_type": "code",
   "execution_count": 24,
   "metadata": {},
   "outputs": [
    {
     "data": {
      "text/plain": [
       "'Loan Approved'"
      ]
     },
     "execution_count": 24,
     "metadata": {},
     "output_type": "execute_result"
    }
   ],
   "source": [
    "comprehensive_loan_approval()10\n"
   ]
  },
  {
   "cell_type": "markdown",
   "metadata": {},
   "source": [
    "FILTER, MAP AND LAMBDA FUNCTION"
   ]
  },
  {
   "cell_type": "code",
   "execution_count": 25,
   "metadata": {},
   "outputs": [
    {
     "data": {
      "text/plain": [
       "[0, 1, 2, 3, 4, 5, 6, 7, 8, 9, 10, 11, 12, 13, 14, 15, 16, 17, 18, 19, 20]"
      ]
     },
     "execution_count": 25,
     "metadata": {},
     "output_type": "execute_result"
    }
   ],
   "source": [
    "\n",
    "number = list(range(21))\n",
    "number"
   ]
  },
  {
   "cell_type": "code",
   "execution_count": 31,
   "metadata": {},
   "outputs": [
    {
     "ename": "NameError",
     "evalue": "name 'X' is not defined",
     "output_type": "error",
     "traceback": [
      "\u001b[1;31m---------------------------------------------------------------------------\u001b[0m",
      "\u001b[1;31mNameError\u001b[0m                                 Traceback (most recent call last)",
      "Cell \u001b[1;32mIn[31], line 14\u001b[0m\n\u001b[0;32m     11\u001b[0m even_num \u001b[38;5;241m=\u001b[39m \u001b[38;5;28mfilter\u001b[39m(even_number, number)\n\u001b[0;32m     13\u001b[0m \u001b[38;5;66;03m# Convert output from filter function into a list \u001b[39;00m\n\u001b[1;32m---> 14\u001b[0m \u001b[38;5;28;43mlist\u001b[39;49m\u001b[43m(\u001b[49m\u001b[43meven_num\u001b[49m\u001b[43m)\u001b[49m   \n",
      "Cell \u001b[1;32mIn[31], line 8\u001b[0m, in \u001b[0;36meven_number\u001b[1;34m(x)\u001b[0m\n\u001b[0;32m      7\u001b[0m \u001b[38;5;28;01mdef\u001b[39;00m \u001b[38;5;21meven_number\u001b[39m(x):\n\u001b[1;32m----> 8\u001b[0m  \u001b[38;5;28;01mreturn\u001b[39;00m \u001b[43mX\u001b[49m \u001b[38;5;241m%\u001b[39m \u001b[38;5;241m2\u001b[39m \u001b[38;5;241m==\u001b[39m \u001b[38;5;241m0\u001b[39m\n",
      "\u001b[1;31mNameError\u001b[0m: name 'X' is not defined"
     ]
    }
   ],
   "source": [
    "# Filter Function\n",
    "\n",
    "# Extract the even numbers from the list below\n",
    "number = list(range(21))\n",
    "\n",
    "# Function \n",
    "def even_number(x):\n",
    " return X % 2 == 0\n",
    "\n",
    "# filter(Function, list (Iterable))\n",
    "even_num = filter(even_number, number)\n",
    "\n",
    "# Convert output from filter function into a list \n",
    "list(even_num)   \n"
   ]
  },
  {
   "cell_type": "code",
   "execution_count": null,
   "metadata": {},
   "outputs": [],
   "source": []
  },
  {
   "cell_type": "code",
   "execution_count": 29,
   "metadata": {},
   "outputs": [],
   "source": [
    "word = [\"Grace\", \"hello\", \"level\", \"civic\"]\n",
    "\n",
    "# Create a function to confirm if a word is a palindrome\n",
    "def palindrom(x):\n",
    "    return x == x[::-1]"
   ]
  },
  {
   "cell_type": "code",
   "execution_count": null,
   "metadata": {},
   "outputs": [],
   "source": []
  }
 ],
 "metadata": {
  "kernelspec": {
   "display_name": "Python 3",
   "language": "python",
   "name": "python3"
  },
  "language_info": {
   "codemirror_mode": {
    "name": "ipython",
    "version": 3
   },
   "file_extension": ".py",
   "mimetype": "text/x-python",
   "name": "python",
   "nbconvert_exporter": "python",
   "pygments_lexer": "ipython3",
   "version": "3.11.9"
  }
 },
 "nbformat": 4,
 "nbformat_minor": 2
}
